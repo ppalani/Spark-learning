{
 "cells": [
  {
   "cell_type": "code",
   "execution_count": 6,
   "metadata": {},
   "outputs": [
    {
     "name": "stdout",
     "output_type": "stream",
     "text": [
      "root\n",
      " |-- id: integer (nullable = true)\n",
      " |-- authorId: integer (nullable = true)\n",
      " |-- title: string (nullable = true)\n",
      " |-- releaseDate: string (nullable = true)\n",
      " |-- link: string (nullable = true)\n",
      "\n",
      "+---+--------+--------------------+-----------+--------------------+\n",
      "| id|authorId|               title|releaseDate|                link|\n",
      "+---+--------+--------------------+-----------+--------------------+\n",
      "|  1|       1|Fantastic Beasts ...| 11/18/2016|http://amzn.to/2k...|\n",
      "|  2|       1|Harry Potter and ...| 10/06/2015|http://amzn.to/2l...|\n",
      "|  3|       1|The Tales of Beed...| 12/04/2008|http://amzn.to/2k...|\n",
      "|  4|       1|Harry Potter and ...| 10/04/2016|http://amzn.to/2k...|\n",
      "|  5|       2|Informix 12.10 on...| 04/23/2017|http://amzn.to/2i...|\n",
      "|  6|       2|Development Tools...| 12/28/2016|http://amzn.to/2v...|\n",
      "|  7|       3|Adventures of Huc...| 05/26/1994|http://amzn.to/2w...|\n",
      "|  8|       3|A Connecticut Yan...| 06/17/2017|http://amzn.to/2x...|\n",
      "| 10|       4|Jacques le Fataliste| 03/01/2000|http://amzn.to/2u...|\n",
      "| 11|       4|Diderot Encyclope...|       null|http://amzn.to/2i...|\n",
      "| 12|    null|   A Woman in Berlin| 07/11/2006|http://amzn.to/2i...|\n",
      "| 13|       6|Spring Boot in Ac...| 01/03/1916|http://amzn.to/2h...|\n",
      "| 14|       6|Spring in Action:...| 11/28/2014|http://amzn.to/2y...|\n",
      "| 15|       7|Soft Skills: The ...| 12/29/2014|http://amzn.to/2z...|\n",
      "| 16|       8|     Of Mice and Men|       null|http://amzn.to/2z...|\n",
      "| 17|       9|Java 8 in Action:...| 08/28/2014|http://amzn.to/2i...|\n",
      "| 18|      12|              Hamlet| 06/08/2012|http://amzn.to/2y...|\n",
      "| 19|      13|             Pensées| 12/31/1670|http://amzn.to/2j...|\n",
      "| 20|      14|Fables choisies; ...| 09/01/1999|http://amzn.to/2y...|\n",
      "| 21|      15|Discourse on Meth...| 06/15/1999|http://amzn.to/2h...|\n",
      "+---+--------+--------------------+-----------+--------------------+\n",
      "only showing top 20 rows\n",
      "\n"
     ]
    }
   ],
   "source": [
    "from pyspark.sql import SparkSession;\n",
    "sp=SparkSession.Builder().appName('compex csv').master('local').getOrCreate();\n",
    "df=sp.read.csv(\"data_files//books.csv\",header=\"true\",multiLine=\"true\",quote=\"*\",sep=';',inferSchema=\"true\",dateFormat='m/d/y')\n",
    "df.printSchema();\n",
    "df.show();"
   ]
  },
  {
   "cell_type": "code",
   "execution_count": null,
   "metadata": {},
   "outputs": [],
   "source": []
  }
 ],
 "metadata": {
  "kernelspec": {
   "display_name": "Python 3",
   "language": "python",
   "name": "python3"
  },
  "language_info": {
   "codemirror_mode": {
    "name": "ipython",
    "version": 3
   },
   "file_extension": ".py",
   "mimetype": "text/x-python",
   "name": "python",
   "nbconvert_exporter": "python",
   "pygments_lexer": "ipython3",
   "version": "3.10.10"
  },
  "orig_nbformat": 4
 },
 "nbformat": 4,
 "nbformat_minor": 2
}
