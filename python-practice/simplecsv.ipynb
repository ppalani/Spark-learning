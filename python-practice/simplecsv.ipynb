{
 "cells": [
  {
   "cell_type": "code",
   "execution_count": 10,
   "metadata": {},
   "outputs": [],
   "source": [
    "from pyspark.sql import SparkSession;\n"
   ]
  },
  {
   "cell_type": "code",
   "execution_count": 11,
   "metadata": {},
   "outputs": [],
   "source": [
    "spark= SparkSession.Builder().appName('test csv').master('local').getOrCreate();"
   ]
  },
  {
   "cell_type": "code",
   "execution_count": 14,
   "metadata": {},
   "outputs": [
    {
     "name": "stdout",
     "output_type": "stream",
     "text": [
      "+---+--------+--------------------+-----------+--------------------+\n",
      "| id|authorId|               title|releaseDate|                link|\n",
      "+---+--------+--------------------+-----------+--------------------+\n",
      "|  1|       1|Fantastic Beasts ...|   11/18/16|http://amzn.to/2k...|\n",
      "|  2|       1|Harry Potter and ...|    10/6/15|http://amzn.to/2l...|\n",
      "|  3|       1|The Tales of Beed...|    12/4/08|http://amzn.to/2k...|\n",
      "|  4|       1|Harry Potter and ...|    10/4/16|http://amzn.to/2k...|\n",
      "|  5|       2|Informix 12.10 on...|    4/23/17|http://amzn.to/2i...|\n",
      "|  6|       2|Development Tools...|   12/28/16|http://amzn.to/2v...|\n",
      "|  7|       3|Adventures of Huc...|    5/26/94|http://amzn.to/2w...|\n",
      "|  8|       3|A Connecticut Yan...|    6/17/17|http://amzn.to/2x...|\n",
      "| 10|       4|Jacques le Fataliste|     3/1/00|http://amzn.to/2u...|\n",
      "| 11|       4|Diderot Encyclope...|       null|http://amzn.to/2i...|\n",
      "| 12|    null|   A Woman in Berlin|    7/11/06|http://amzn.to/2i...|\n",
      "| 13|       6|Spring Boot in Ac...|     1/3/16|http://amzn.to/2h...|\n",
      "| 14|       6|Spring in Action:...|   11/28/14|http://amzn.to/2y...|\n",
      "| 15|       7|Soft Skills: The ...|   12/29/14|http://amzn.to/2z...|\n",
      "| 16|       8|     Of Mice and Men|       null|http://amzn.to/2z...|\n",
      "| 17|       9|Java 8 in Action:...|    8/28/14|http://amzn.to/2i...|\n",
      "| 18|      12|              Hamlet|     6/8/12|http://amzn.to/2y...|\n",
      "| 19|      13|             Pensées| 12/31/1670|http://amzn.to/2j...|\n",
      "| 20|      14|Fables choisies, ...|   9/1/1999|http://amzn.to/2y...|\n",
      "| 21|      15|Discourse on Meth...|  6/15/1999|http://amzn.to/2h...|\n",
      "+---+--------+--------------------+-----------+--------------------+\n",
      "only showing top 20 rows\n",
      "\n"
     ]
    }
   ],
   "source": [
    "from pyspark.sql import DataFrame;\n",
    "df =spark.read.csv(\"data_files//books_simple.csv\",header='true',inferSchema='true')\n",
    "df.show();"
   ]
  },
  {
   "cell_type": "code",
   "execution_count": null,
   "metadata": {},
   "outputs": [],
   "source": []
  },
  {
   "cell_type": "code",
   "execution_count": null,
   "metadata": {},
   "outputs": [],
   "source": []
  },
  {
   "cell_type": "code",
   "execution_count": null,
   "metadata": {},
   "outputs": [],
   "source": []
  }
 ],
 "metadata": {
  "kernelspec": {
   "display_name": "Python 3",
   "language": "python",
   "name": "python3"
  },
  "language_info": {
   "codemirror_mode": {
    "name": "ipython",
    "version": 3
   },
   "file_extension": ".py",
   "mimetype": "text/x-python",
   "name": "python",
   "nbconvert_exporter": "python",
   "pygments_lexer": "ipython3",
   "version": "3.10.10"
  },
  "orig_nbformat": 4
 },
 "nbformat": 4,
 "nbformat_minor": 2
}
